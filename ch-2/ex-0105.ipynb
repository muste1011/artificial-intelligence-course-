{
 "cells": [
  {
   "cell_type": "markdown",
   "metadata": {},
   "source": [
    "## Coding Exercise #0105"
   ]
  },
  {
   "cell_type": "markdown",
   "metadata": {},
   "source": [
    "### 1.Conditional structure:"
   ]
  },
  {
   "cell_type": "code",
   "execution_count": 1,
   "metadata": {},
   "outputs": [
    {
     "name": "stdout",
     "output_type": "stream",
     "text": [
      "How old are you?9\n",
      "9 years old ....you must be a student\n"
     ]
    }
   ],
   "source": [
    "x=input ('How old are you?')\n",
    "x=int(x)\n",
    "if x<8:\n",
    "    print(str(x) + ' years old....you are too young')\n",
    "elif x>=8 and x<19:\n",
    "    print(str(x) +' years old ....you must be a student')\n",
    "else:\n",
    "    print('you are all grown up')\n",
    "    "
   ]
  },
  {
   "cell_type": "code",
   "execution_count": null,
   "metadata": {},
   "outputs": [],
   "source": [
    "x=input('how much 2*3 ?')\n",
    "x=int(x)\n",
    "if x==2*3:\n",
    "    print('correct')\n",
    "else:\n",
    "    print('wrong')\n"
   ]
  },
  {
   "cell_type": "code",
   "execution_count": null,
   "metadata": {},
   "outputs": [],
   "source": [
    "x = input(\"How much is 2*3? \")\n",
    "x = int(x)\n",
    "if x !=2*3 :\n",
    "    print( \"Incorrect\")\n",
    "else:\n",
    "    print( \"Correct.\")"
   ]
  },
  {
   "cell_type": "code",
   "execution_count": null,
   "metadata": {},
   "outputs": [],
   "source": [
    "x = input(\"How much is 2*3? \")\n",
    "x = int(x)\n",
    "y=(x==2*3)\n",
    "if  y :\n",
    "    print( \"correct\")\n",
    "else:\n",
    "    print( \"inCorrect.\")"
   ]
  },
  {
   "cell_type": "markdown",
   "metadata": {},
   "source": [
    "### 2.loop structure:"
   ]
  },
  {
   "cell_type": "markdown",
   "metadata": {},
   "source": [
    "#### 2.1.For loops:"
   ]
  },
  {
   "cell_type": "code",
   "execution_count": null,
   "metadata": {},
   "outputs": [],
   "source": [
    "sum=0\n",
    "for x in range(1,11):\n",
    "    sum+=x\n",
    "print ('sum of 1 to 10= '+ str(sum))   \n"
   ]
  },
  {
   "cell_type": "code",
   "execution_count": null,
   "metadata": {},
   "outputs": [],
   "source": [
    "sum=0\n",
    "for x in range(2,101,2):\n",
    "    sum+=x\n",
    "print('sum of even number from 2 to 100 is '+str(sum))    "
   ]
  },
  {
   "cell_type": "code",
   "execution_count": null,
   "metadata": {},
   "outputs": [],
   "source": [
    "sum = 0\n",
    "for x in range(1,101):\n",
    "    if ( x % 2 ==0):\n",
    "        sum += x\n",
    "print(\"Sum of even numbers between 1 and 100 = \" + str(sum))"
   ]
  },
  {
   "cell_type": "code",
   "execution_count": null,
   "metadata": {},
   "outputs": [],
   "source": [
    "sum = 0\n",
    "for x in range(1,101):\n",
    "    if ( x % 2 !=0):\n",
    "        sum += x\n",
    "print(\"Sum of odd numbers between 1 and 100 = \" + str(sum))"
   ]
  },
  {
   "cell_type": "code",
   "execution_count": null,
   "metadata": {},
   "outputs": [],
   "source": [
    "sum = 0\n",
    "for x in range(1,101):\n",
    "    if ( x % 5 ==0):\n",
    "        sum += x\n",
    "print(\"Sum of multiples numbers between 1 and 100 = \" + str(sum))"
   ]
  },
  {
   "cell_type": "code",
   "execution_count": null,
   "metadata": {},
   "outputs": [],
   "source": [
    "my_list=['you','need','python']\n",
    "for x in my_list:\n",
    "    print(x)"
   ]
  },
  {
   "cell_type": "code",
   "execution_count": 5,
   "metadata": {},
   "outputs": [
    {
     "name": "stdout",
     "output_type": "stream",
     "text": [
      "2 * 2 =  4 \n",
      "2 * 3 =  6 \n",
      "2 * 4 =  8 \n",
      "2 * 5 = 10 \n",
      "2 * 6 = 12 \n",
      "2 * 7 = 14 \n",
      "2 * 8 = 16 \n",
      "2 * 9 = 18 \n",
      "3 * 2 =  6 \n",
      "3 * 3 =  9 \n",
      "3 * 4 = 12 \n",
      "3 * 5 = 15 \n",
      "3 * 6 = 18 \n",
      "3 * 7 = 21 \n",
      "3 * 8 = 24 \n",
      "3 * 9 = 27 \n",
      "4 * 2 =  8 \n",
      "4 * 3 = 12 \n",
      "4 * 4 = 16 \n",
      "4 * 5 = 20 \n",
      "4 * 6 = 24 \n",
      "4 * 7 = 28 \n",
      "4 * 8 = 32 \n",
      "4 * 9 = 36 \n",
      "5 * 2 = 10 \n",
      "5 * 3 = 15 \n",
      "5 * 4 = 20 \n",
      "5 * 5 = 25 \n",
      "5 * 6 = 30 \n",
      "5 * 7 = 35 \n",
      "5 * 8 = 40 \n",
      "5 * 9 = 45 \n",
      "6 * 2 = 12 \n",
      "6 * 3 = 18 \n",
      "6 * 4 = 24 \n",
      "6 * 5 = 30 \n",
      "6 * 6 = 36 \n",
      "6 * 7 = 42 \n",
      "6 * 8 = 48 \n",
      "6 * 9 = 54 \n",
      "7 * 2 = 14 \n",
      "7 * 3 = 21 \n",
      "7 * 4 = 28 \n",
      "7 * 5 = 35 \n",
      "7 * 6 = 42 \n",
      "7 * 7 = 49 \n",
      "7 * 8 = 56 \n",
      "7 * 9 = 63 \n",
      "8 * 2 = 16 \n",
      "8 * 3 = 24 \n",
      "8 * 4 = 32 \n",
      "8 * 5 = 40 \n",
      "8 * 6 = 48 \n",
      "8 * 7 = 56 \n",
      "8 * 8 = 64 \n",
      "8 * 9 = 72 \n",
      "9 * 2 = 18 \n",
      "9 * 3 = 27 \n",
      "9 * 4 = 36 \n",
      "9 * 5 = 45 \n",
      "9 * 6 = 54 \n",
      "9 * 7 = 63 \n",
      "9 * 8 = 72 \n",
      "9 * 9 = 81 \n"
     ]
    }
   ],
   "source": [
    "# Multiplication table.\n",
    "# A 'for' loop within another.\n",
    "for i in range(2,10):\n",
    "    for j in range(2,10):\n",
    "        print( \"%1d * %1d = %2d \" % ( i, j, i * j))"
   ]
  },
  {
   "cell_type": "markdown",
   "metadata": {},
   "source": [
    "#### 2.2. While loops:"
   ]
  },
  {
   "cell_type": "code",
   "execution_count": null,
   "metadata": {},
   "outputs": [],
   "source": [
    "counter = 0\n",
    "sum = 0\n",
    "while counter < 11:\n",
    "    sum += counter\n",
    "    counter += 1\n",
    "print(\"Sum of 1 through 10 = \" + str(sum))"
   ]
  },
  {
   "cell_type": "code",
   "execution_count": 3,
   "metadata": {},
   "outputs": [
    {
     "name": "stdout",
     "output_type": "stream",
     "text": [
      "Sum of multiples of 5 between 0 and 1000 = 100500\n"
     ]
    }
   ],
   "source": [
    "counter = 0\n",
    "sum = 0\n",
    "while counter < 1001:\n",
    "    if counter % 5 == 0:\n",
    "        sum += counter\n",
    "    counter += 1\n",
    "print(\"Sum of multiples of 5 between 0 and 1000 = \" + str(sum))"
   ]
  },
  {
   "cell_type": "code",
   "execution_count": 2,
   "metadata": {},
   "outputs": [
    {
     "name": "stdout",
     "output_type": "stream",
     "text": [
      "2 * 2 =  4 \n",
      "2 * 3 =  6 \n",
      "2 * 4 =  8 \n",
      "2 * 5 = 10 \n",
      "2 * 6 = 12 \n",
      "2 * 7 = 14 \n",
      "2 * 8 = 16 \n",
      "2 * 9 = 18 \n",
      "3 * 2 =  6 \n",
      "3 * 3 =  9 \n",
      "3 * 4 = 12 \n",
      "3 * 5 = 15 \n",
      "3 * 6 = 18 \n",
      "3 * 7 = 21 \n",
      "3 * 8 = 24 \n",
      "3 * 9 = 27 \n",
      "4 * 2 =  8 \n",
      "4 * 3 = 12 \n",
      "4 * 4 = 16 \n",
      "4 * 5 = 20 \n",
      "4 * 6 = 24 \n",
      "4 * 7 = 28 \n",
      "4 * 8 = 32 \n",
      "4 * 9 = 36 \n",
      "5 * 2 = 10 \n",
      "5 * 3 = 15 \n",
      "5 * 4 = 20 \n",
      "5 * 5 = 25 \n",
      "5 * 6 = 30 \n",
      "5 * 7 = 35 \n",
      "5 * 8 = 40 \n",
      "5 * 9 = 45 \n",
      "6 * 2 = 12 \n",
      "6 * 3 = 18 \n",
      "6 * 4 = 24 \n",
      "6 * 5 = 30 \n",
      "6 * 6 = 36 \n",
      "6 * 7 = 42 \n",
      "6 * 8 = 48 \n",
      "6 * 9 = 54 \n",
      "7 * 2 = 14 \n",
      "7 * 3 = 21 \n",
      "7 * 4 = 28 \n",
      "7 * 5 = 35 \n",
      "7 * 6 = 42 \n",
      "7 * 7 = 49 \n",
      "7 * 8 = 56 \n",
      "7 * 9 = 63 \n",
      "8 * 2 = 16 \n",
      "8 * 3 = 24 \n",
      "8 * 4 = 32 \n",
      "8 * 5 = 40 \n",
      "8 * 6 = 48 \n",
      "8 * 7 = 56 \n",
      "8 * 8 = 64 \n",
      "8 * 9 = 72 \n",
      "9 * 2 = 18 \n",
      "9 * 3 = 27 \n",
      "9 * 4 = 36 \n",
      "9 * 5 = 45 \n",
      "9 * 6 = 54 \n",
      "9 * 7 = 63 \n",
      "9 * 8 = 72 \n",
      "9 * 9 = 81 \n"
     ]
    }
   ],
   "source": [
    "# Multiplication table.\n",
    "# A 'while' loop within another.\n",
    "i = 1\n",
    "while i < 9:\n",
    "    i += 1\n",
    "    j = 2\n",
    "    while j < 10:\n",
    "        print( \"%1d * %1d = %2d \" % ( i, j, i*j))\n",
    "        j += 1"
   ]
  },
  {
   "cell_type": "code",
   "execution_count": 4,
   "metadata": {},
   "outputs": [
    {
     "name": "stdout",
     "output_type": "stream",
     "text": [
      "2 * 1 =  2 \n",
      "2 * 2 =  4 \n",
      "2 * 3 =  6 \n",
      "2 * 4 =  8 \n",
      "2 * 5 = 10 \n",
      "2 * 6 = 12 \n",
      "2 * 7 = 14 \n",
      "2 * 8 = 16 \n",
      "2 * 9 = 18 \n",
      "3 * 1 =  3 \n",
      "3 * 2 =  6 \n",
      "3 * 3 =  9 \n",
      "3 * 4 = 12 \n",
      "3 * 5 = 15 \n",
      "3 * 6 = 18 \n",
      "3 * 7 = 21 \n",
      "3 * 8 = 24 \n",
      "3 * 9 = 27 \n",
      "4 * 1 =  4 \n",
      "4 * 2 =  8 \n",
      "4 * 3 = 12 \n",
      "4 * 4 = 16 \n",
      "4 * 5 = 20 \n",
      "4 * 6 = 24 \n",
      "4 * 7 = 28 \n",
      "4 * 8 = 32 \n",
      "4 * 9 = 36 \n",
      "5 * 1 =  5 \n",
      "5 * 2 = 10 \n",
      "5 * 3 = 15 \n",
      "5 * 4 = 20 \n",
      "5 * 5 = 25 \n",
      "5 * 6 = 30 \n",
      "5 * 7 = 35 \n",
      "5 * 8 = 40 \n",
      "5 * 9 = 45 \n",
      "6 * 1 =  6 \n",
      "6 * 2 = 12 \n",
      "6 * 3 = 18 \n",
      "6 * 4 = 24 \n",
      "6 * 5 = 30 \n",
      "6 * 6 = 36 \n",
      "6 * 7 = 42 \n",
      "6 * 8 = 48 \n",
      "6 * 9 = 54 \n",
      "7 * 1 =  7 \n",
      "7 * 2 = 14 \n",
      "7 * 3 = 21 \n",
      "7 * 4 = 28 \n",
      "7 * 5 = 35 \n",
      "7 * 6 = 42 \n",
      "7 * 7 = 49 \n",
      "7 * 8 = 56 \n",
      "7 * 9 = 63 \n",
      "8 * 1 =  8 \n",
      "8 * 2 = 16 \n",
      "8 * 3 = 24 \n",
      "8 * 4 = 32 \n",
      "8 * 5 = 40 \n",
      "8 * 6 = 48 \n",
      "8 * 7 = 56 \n",
      "8 * 8 = 64 \n",
      "8 * 9 = 72 \n",
      "9 * 1 =  9 \n",
      "9 * 2 = 18 \n",
      "9 * 3 = 27 \n",
      "9 * 4 = 36 \n",
      "9 * 5 = 45 \n",
      "9 * 6 = 54 \n",
      "9 * 7 = 63 \n",
      "9 * 8 = 72 \n",
      "9 * 9 = 81 \n"
     ]
    }
   ],
   "source": [
    "# Multiplication table.\n",
    "# A 'for' loop within a 'while' loop.\n",
    "i = 1\n",
    "while i < 9:\n",
    "    i += 1\n",
    "    for j in range(1,10):\n",
    "        print( \"%1d * %1d = %2d \" % ( i, j, i*j))\n",
    "        j += 1"
   ]
  }
 ],
 "metadata": {
  "kernelspec": {
   "display_name": "Python 3",
   "language": "python",
   "name": "python3"
  },
  "language_info": {
   "codemirror_mode": {
    "name": "ipython",
    "version": 3
   },
   "file_extension": ".py",
   "mimetype": "text/x-python",
   "name": "python",
   "nbconvert_exporter": "python",
   "pygments_lexer": "ipython3",
   "version": "3.7.6"
  }
 },
 "nbformat": 4,
 "nbformat_minor": 4
}
