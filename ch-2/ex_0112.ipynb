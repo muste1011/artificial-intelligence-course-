{
 "cells": [
  {
   "cell_type": "markdown",
   "metadata": {},
   "source": [
    "## Coding Exercise #0112"
   ]
  },
  {
   "cell_type": "markdown",
   "metadata": {},
   "source": [
    "### 1. Working with Excel documents:"
   ]
  },
  {
   "cell_type": "code",
   "execution_count": null,
   "metadata": {},
   "outputs": [],
   "source": [
    "# Install the library.\n",
    "!pip install openpyxl"
   ]
  },
  {
   "cell_type": "code",
   "execution_count": null,
   "metadata": {},
   "outputs": [],
   "source": [
    "# Import the required libraries.\n",
    "import openpyxl\n",
    "import os"
   ]
  },
  {
   "cell_type": "code",
   "execution_count": null,
   "metadata": {},
   "outputs": [],
   "source": [
    "# Go to the directory where the file is located. \n",
    "os.chdir(r'~~')                # Please, replace the path with your own.   "
   ]
  },
  {
   "cell_type": "markdown",
   "metadata": {},
   "source": [
    "#### 1.1. Working with existing documents: "
   ]
  },
  {
   "cell_type": "code",
   "execution_count": null,
   "metadata": {},
   "outputs": [],
   "source": [
    "wb = openpyxl.load_workbook('my_excel_workbook.xlsx')      # Open an workbook.\n",
    "wb.sheetnames                                              # Show the sheet names as a list."
   ]
  },
  {
   "cell_type": "code",
   "execution_count": null,
   "metadata": {},
   "outputs": [],
   "source": [
    "sh = wb['Sheet1']                                 # Get the 'Sheet1' as an object.\n",
    "cl = sh['A1']                                     # 'Get the A1' cell as an object.\n",
    "print(cl.value)                                   # Show the cell value.\n",
    "print(sh['A1'].value)                             # Another way to show the value of 'A1' cell.\n",
    "print(sh.cell(1,1).value)                         # Get the cell value by specifying the row and column positions."
   ]
  },
  {
   "cell_type": "code",
   "execution_count": null,
   "metadata": {},
   "outputs": [],
   "source": [
    "# Show values from several cells.\n",
    "for i in range(1,11):\n",
    "     print(sh.cell(i,1).value )"
   ]
  },
  {
   "cell_type": "markdown",
   "metadata": {},
   "source": [
    "#### 1.2. Creating a new document: "
   ]
  },
  {
   "cell_type": "code",
   "execution_count": null,
   "metadata": {},
   "outputs": [],
   "source": [
    "# Create a new workbook.\n",
    "my_wb = openpyxl.Workbook()           # Create a new workbook object in the memory.\n",
    "print(my_wb.sheetnames)               # In this workbook there is only the 'Sheet'."
   ]
  },
  {
   "cell_type": "code",
   "execution_count": null,
   "metadata": {},
   "outputs": [],
   "source": [
    "# Manipulating the content of new new workbook.\n",
    "my_sh = my_wb['Sheet']                  \n",
    "my_sh['A1'].value = 999                  # Change the value of a cell.\n",
    "my_sh['A2'] = 666                        # Change the value of another cell. This is OK.\n",
    "my_sh.title = 'MySheet1'                 # Change the sheet name.\n",
    "my_sh2 = my_wb.create_sheet(index = 0, title = 'MySheet2')    # Append a new sheet.\n",
    "my_sh2['A1'].value = 777                 # Change the value of a cell in the new sheet. \n",
    "print(my_wb.sheetnames)"
   ]
  },
  {
   "cell_type": "code",
   "execution_count": null,
   "metadata": {},
   "outputs": [],
   "source": [
    "# Save the workbook object as a file.\n",
    "my_wb.save('my_new_excel_workbook.xlsx')"
   ]
  },
  {
   "cell_type": "code",
   "execution_count": null,
   "metadata": {},
   "outputs": [],
   "source": []
  }
 ],
 "metadata": {
  "kernelspec": {
   "display_name": "Python 3",
   "language": "python",
   "name": "python3"
  },
  "language_info": {
   "codemirror_mode": {
    "name": "ipython",
    "version": 3
   },
   "file_extension": ".py",
   "mimetype": "text/x-python",
   "name": "python",
   "nbconvert_exporter": "python",
   "pygments_lexer": "ipython3",
   "version": "3.7.3"
  }
 },
 "nbformat": 4,
 "nbformat_minor": 2
}
