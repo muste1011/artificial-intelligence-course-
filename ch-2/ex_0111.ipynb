{
 "cells": [
  {
   "cell_type": "markdown",
   "metadata": {},
   "source": [
    "## Coding Exercise #0111"
   ]
  },
  {
   "cell_type": "markdown",
   "metadata": {},
   "source": [
    "### 1. Using the OS library:"
   ]
  },
  {
   "cell_type": "code",
   "execution_count": null,
   "metadata": {},
   "outputs": [],
   "source": [
    "# Import the library.\n",
    "import os"
   ]
  },
  {
   "cell_type": "code",
   "execution_count": null,
   "metadata": {},
   "outputs": [],
   "source": [
    "str1 = \"c:\"+ os.path.sep\n",
    "str2 = \"Users\"\n",
    "str3 = \"Public\"\n",
    "str4 = \"Documents\""
   ]
  },
  {
   "cell_type": "code",
   "execution_count": null,
   "metadata": {},
   "outputs": [],
   "source": [
    "# Make a path using the strings.\n",
    "str_path = os.path.join(str1, str2, str3, str4)\n",
    "print(os.path.sep)\n",
    "print(str_path)"
   ]
  },
  {
   "cell_type": "code",
   "execution_count": null,
   "metadata": {},
   "outputs": [],
   "source": [
    "# Current working directory.\n",
    "print(os.getcwd())                   "
   ]
  },
  {
   "cell_type": "code",
   "execution_count": null,
   "metadata": {},
   "outputs": [],
   "source": [
    "# Move to a new directory.\n",
    "os.chdir(str_path)                   \n",
    "# Current working directory.\n",
    "print(os.getcwd())  "
   ]
  },
  {
   "cell_type": "code",
   "execution_count": null,
   "metadata": {},
   "outputs": [],
   "source": [
    "# Make an absolute path based on the current working directory.\n",
    "str_path_abs = os.path.abspath(\"my_file.txt\")            # Please, change \"my_file.txt\" to a file of your own choice.\n",
    "print(str_path_abs)"
   ]
  },
  {
   "cell_type": "code",
   "execution_count": null,
   "metadata": {},
   "outputs": [],
   "source": [
    "# Check whether it is an absolute path.\n",
    "print(os.path.isabs(str_path_abs))\n",
    "# Just the file name.\n",
    "print(os.path.basename(str_path_abs))\n",
    "# Just the path up to the directory.\n",
    "print(os.path.dirname(str_path_abs))"
   ]
  },
  {
   "cell_type": "code",
   "execution_count": null,
   "metadata": {},
   "outputs": [],
   "source": [
    "# Check whether the path is a directory.\n",
    "print(os.path.isdir(str_path))\n",
    "print(os.path.isdir(str_path_abs))"
   ]
  },
  {
   "cell_type": "code",
   "execution_count": null,
   "metadata": {},
   "outputs": [],
   "source": [
    "# Check whether the path ends in an actual file.\n",
    "print(os.path.isfile(str_path))\n",
    "print(os.path.isfile(str_path_abs))"
   ]
  },
  {
   "cell_type": "code",
   "execution_count": null,
   "metadata": {},
   "outputs": [],
   "source": [
    "# Size of the file.\n",
    "os.path.getsize(\"my_file.txt\")                            # Please, change \"my_file.txt\" to a file of your own choice."
   ]
  },
  {
   "cell_type": "code",
   "execution_count": null,
   "metadata": {},
   "outputs": [],
   "source": [
    "# List the files in the current working directory.\n",
    "list_dir = os.listdir()\n",
    "list_dir.sort()\n",
    "\n",
    "# Show only those files with names starting with 'a' or 'A'.\n",
    "for x in list_dir:\n",
    "    if x.lower()[0] == 'a':\n",
    "        print(x)"
   ]
  },
  {
   "cell_type": "code",
   "execution_count": null,
   "metadata": {},
   "outputs": [],
   "source": [
    "# Make a new subfolder if it doesn't exist yet.\n",
    "name_subdir = 'mySubDirectory'\n",
    "if not os.path.exists(name_subdir):\n",
    "    os.makedirs(name_subdir)"
   ]
  },
  {
   "cell_type": "code",
   "execution_count": null,
   "metadata": {},
   "outputs": [],
   "source": [
    "# Remove a directory.\n",
    "os.rmdir(name_subdir)"
   ]
  },
  {
   "cell_type": "code",
   "execution_count": null,
   "metadata": {},
   "outputs": [],
   "source": [
    "# Erase a file if it already exists.\n",
    "if os.path.isfile('my_test.txt'):\n",
    "    os.unlink('my_test.txt')"
   ]
  },
  {
   "cell_type": "code",
   "execution_count": null,
   "metadata": {},
   "outputs": [],
   "source": [
    "os.getcwd()"
   ]
  },
  {
   "cell_type": "markdown",
   "metadata": {},
   "source": [
    "### 2. Reading and writing text files:"
   ]
  },
  {
   "cell_type": "code",
   "execution_count": null,
   "metadata": {},
   "outputs": [],
   "source": [
    "# Get the current working directory.\n",
    "os.getcwd()"
   ]
  },
  {
   "cell_type": "code",
   "execution_count": null,
   "metadata": {},
   "outputs": [],
   "source": [
    "# Go to the directory where the file is located. \n",
    "os.chdir(r'~~')                # Please, replace the path with your own.   "
   ]
  },
  {
   "cell_type": "code",
   "execution_count": null,
   "metadata": {},
   "outputs": [],
   "source": [
    "f = open('my_file.txt', 'r')   # Open the text file in read mode.\n",
    "all = f.read()                 # Read in all at once.\n",
    "print(all)                     # Print out all at once.\n",
    "f.close()                      # Close the file."
   ]
  },
  {
   "cell_type": "code",
   "execution_count": null,
   "metadata": {},
   "outputs": [],
   "source": [
    "f = open('my_file.txt', 'r')   # Open the text file in read mode.\n",
    "all = f.read()                 # Read in all at once\n",
    "for line in all:\n",
    "     print(line)               # Print out line by line.\n",
    "f.close()                      # Close the file."
   ]
  },
  {
   "cell_type": "code",
   "execution_count": null,
   "metadata": {},
   "outputs": [],
   "source": [
    "f = open('new_file.txt', 'w')  # Open the text file in write mode.\n",
    "f.write('This is a new file.') # write.\n",
    "f.close()                      # Close the file."
   ]
  },
  {
   "cell_type": "code",
   "execution_count": null,
   "metadata": {},
   "outputs": [],
   "source": [
    "f = open('new_file.txt', 'w')      # Open again the same file in write mode. (Overwrite)\n",
    "f.write('This is another file!')   # Write.\n",
    "f.close()                          # Close the file."
   ]
  },
  {
   "cell_type": "code",
   "execution_count": null,
   "metadata": {},
   "outputs": [],
   "source": [
    "f = open('new_file.txt', 'a')       # Open the text file in append mode.\n",
    "f.write('This is the end!')        # Append.\n",
    "f.close()                          # Close the file."
   ]
  },
  {
   "cell_type": "markdown",
   "metadata": {},
   "source": [
    "### 3. Using the Pickle library:"
   ]
  },
  {
   "cell_type": "code",
   "execution_count": null,
   "metadata": {},
   "outputs": [],
   "source": [
    "# Import the library.\n",
    "import pickle"
   ]
  },
  {
   "cell_type": "code",
   "execution_count": null,
   "metadata": {},
   "outputs": [],
   "source": [
    "x = [1,2,3, {'Name':'John', 'Age':25, 'Score':9}]         # An object."
   ]
  },
  {
   "cell_type": "code",
   "execution_count": null,
   "metadata": {},
   "outputs": [],
   "source": [
    "pickle.dump(x, open('my_pickle.pkl','wb'))                # To be pickled."
   ]
  },
  {
   "cell_type": "code",
   "execution_count": null,
   "metadata": {},
   "outputs": [],
   "source": [
    "del x                                                     # Delete the current object."
   ]
  },
  {
   "cell_type": "code",
   "execution_count": null,
   "metadata": {},
   "outputs": [],
   "source": [
    "new_x = pickle.load(open('my_pickle.pkl','rb'))           # Bring back the pickled object.\n",
    "print(new_x)"
   ]
  },
  {
   "cell_type": "markdown",
   "metadata": {},
   "source": [
    "### 4. Using the Shelve library:"
   ]
  },
  {
   "cell_type": "code",
   "execution_count": null,
   "metadata": {},
   "outputs": [],
   "source": [
    "# Import the library.\n",
    "import shelve"
   ]
  },
  {
   "cell_type": "code",
   "execution_count": null,
   "metadata": {},
   "outputs": [],
   "source": [
    "# Write in a dictionary format.\n",
    "x = shelve.open('MyDict')               # 3 binary files are created: .bak, .dat, .dir\n",
    "x['Name'] = 'Andrew'                    # A key-value pair. \n",
    "x['Age'] = 23\n",
    "x['Score'] = 8\n",
    "x.close()"
   ]
  },
  {
   "cell_type": "code",
   "execution_count": null,
   "metadata": {},
   "outputs": [],
   "source": [
    "# Read.\n",
    "x = shelve.open('MyDict')\n",
    "print(list(x.keys()))\n",
    "print(list(x.values()))\n",
    "print(list(x.items()))\n",
    "x.close()"
   ]
  },
  {
   "cell_type": "code",
   "execution_count": null,
   "metadata": {},
   "outputs": [],
   "source": []
  }
 ],
 "metadata": {
  "kernelspec": {
   "display_name": "Python 3",
   "language": "python",
   "name": "python3"
  },
  "language_info": {
   "codemirror_mode": {
    "name": "ipython",
    "version": 3
   },
   "file_extension": ".py",
   "mimetype": "text/x-python",
   "name": "python",
   "nbconvert_exporter": "python",
   "pygments_lexer": "ipython3",
   "version": "3.7.3"
  }
 },
 "nbformat": 4,
 "nbformat_minor": 2
}
