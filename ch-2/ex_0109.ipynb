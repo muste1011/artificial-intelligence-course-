{
 "cells": [
  {
   "cell_type": "markdown",
   "metadata": {},
   "source": [
    "## Coding Exercise #0109"
   ]
  },
  {
   "cell_type": "markdown",
   "metadata": {},
   "source": [
    "### 1. A function that returns the absolute value:"
   ]
  },
  {
   "cell_type": "code",
   "execution_count": null,
   "metadata": {},
   "outputs": [],
   "source": [
    "def ABS(x):\n",
    "    if x >= 0:\n",
    "        result = x\n",
    "    else:\n",
    "        result = -x\n",
    "    return result"
   ]
  },
  {
   "cell_type": "code",
   "execution_count": null,
   "metadata": {},
   "outputs": [],
   "source": [
    "ABS(3)"
   ]
  },
  {
   "cell_type": "code",
   "execution_count": null,
   "metadata": {},
   "outputs": [],
   "source": [
    "ABS(-7)"
   ]
  },
  {
   "cell_type": "markdown",
   "metadata": {},
   "source": [
    "### 2. A function that returns the maximum value:"
   ]
  },
  {
   "cell_type": "code",
   "execution_count": null,
   "metadata": {},
   "outputs": [],
   "source": [
    "def MAX(x):\n",
    "    n = len(x)\n",
    "    my_max = x[0]                 # Initialize the maximum with the first element.\n",
    "    for i in range(1, n): \n",
    "        if x[i] > my_max:         # If the current element is larger than the stored maximum,\n",
    "            my_max = x[i]         # then replace it.\n",
    "    return my_max"
   ]
  },
  {
   "cell_type": "code",
   "execution_count": null,
   "metadata": {},
   "outputs": [],
   "source": [
    "a = [ 999, 131, -542, 1022, 1021, 45, 77]"
   ]
  },
  {
   "cell_type": "code",
   "execution_count": null,
   "metadata": {},
   "outputs": [],
   "source": [
    "MAX(a)"
   ]
  },
  {
   "cell_type": "markdown",
   "metadata": {},
   "source": [
    "### 3. A function that finds the repeated values (set):"
   ]
  },
  {
   "cell_type": "code",
   "execution_count": null,
   "metadata": {},
   "outputs": [],
   "source": [
    "def FIND_SAME(x):\n",
    "    n = len(x)\n",
    "    result = set()                     # Initialize an empty 'result' set.\n",
    "    for i in range(0, n-1):            # Iterate on i from 0 to n-2.\n",
    "        for j in range(i + 1, n):      # Iterate on j from i+1 to n-1.\n",
    "            if x[i] == x[j]:           # If a repetition is detected,\n",
    "                result.add(x[i])       # include it to the 'result' set.\n",
    "    return list(result)"
   ]
  },
  {
   "cell_type": "code",
   "execution_count": null,
   "metadata": {},
   "outputs": [],
   "source": [
    "a = ['Tom', 'Jerry', 'Mike','Sara','Tom','Sara', 'John']"
   ]
  },
  {
   "cell_type": "code",
   "execution_count": null,
   "metadata": {},
   "outputs": [],
   "source": [
    "FIND_SAME(a)"
   ]
  },
  {
   "cell_type": "code",
   "execution_count": null,
   "metadata": {},
   "outputs": [],
   "source": [
    "b = [1,1,1,2,3,4,2,3,5,6,7,8,9,4]"
   ]
  },
  {
   "cell_type": "code",
   "execution_count": null,
   "metadata": {},
   "outputs": [],
   "source": [
    "FIND_SAME(b)"
   ]
  },
  {
   "cell_type": "markdown",
   "metadata": {},
   "source": [
    "### 4. A function that finds the repeated values (dictionary):"
   ]
  },
  {
   "cell_type": "code",
   "execution_count": null,
   "metadata": {},
   "outputs": [],
   "source": [
    "def FIND_SAME_DICT(x):\n",
    "    my_dict = {}                       # An empty dictionary.\n",
    "    for name in x:                     # Iterate over each element of the list.\n",
    "        if name in my_dict:            # If the element is already included as dictionary key,\n",
    "            my_dict[name] += 1         # increase the corresponding value by 1.\n",
    "        else:                          # if not,\n",
    "            my_dict[name] = 1          # Include the new key:value pair with the value set to 1.\n",
    "    result = []\n",
    "    for name in my_dict:               # Iterate over the dictionay keys.\n",
    "        if my_dict[name] >= 2:         # If the corresponding value is larger than 2, it is recognized as repetition\n",
    "            result.append(name)        # and append the key to the output list.\n",
    "    return result"
   ]
  },
  {
   "cell_type": "code",
   "execution_count": null,
   "metadata": {},
   "outputs": [],
   "source": [
    "FIND_SAME_DICT(a)"
   ]
  },
  {
   "cell_type": "code",
   "execution_count": null,
   "metadata": {},
   "outputs": [],
   "source": [
    "FIND_SAME(b)"
   ]
  },
  {
   "cell_type": "markdown",
   "metadata": {},
   "source": [
    "### 5. Binary search:"
   ]
  },
  {
   "cell_type": "code",
   "execution_count": null,
   "metadata": {},
   "outputs": [],
   "source": [
    "# input:  a = list, x = searched value.\n",
    "# output: position of the searched value. If not found, return -1.\n",
    "#\n",
    "def binary_search(a, x):\n",
    "    # 'left' and 'right' determines the search range.\n",
    "    left = 0                       \n",
    "    right = len(a) - 1\n",
    "    while left <= right:              # Keep searching while there is non-zero range left.\n",
    "        mid = (left + right)//2      # Middle of the search range. Floor division applied.\n",
    "        if x == a[mid]:              # Found!\n",
    "            return mid\n",
    "        elif x > a[mid]:             # If the searched value is larger than the middle value,\n",
    "            left = mid + 1           #  reduce the search range to the right half.\n",
    "        else:                        # If the searched value is samller than the middle value\n",
    "            right = mid - 1          #  reduce the search range to the left half.\n",
    "    return -1                        # When the search was not successful."
   ]
  },
  {
   "cell_type": "code",
   "execution_count": null,
   "metadata": {},
   "outputs": [],
   "source": [
    "d = [1,4,9,16,25,36,49,64,81]"
   ]
  },
  {
   "cell_type": "code",
   "execution_count": null,
   "metadata": {},
   "outputs": [],
   "source": [
    "binary_search(d,36)"
   ]
  },
  {
   "cell_type": "code",
   "execution_count": null,
   "metadata": {},
   "outputs": [],
   "source": [
    "binary_search(d,50)"
   ]
  },
  {
   "cell_type": "code",
   "execution_count": null,
   "metadata": {},
   "outputs": [],
   "source": []
  }
 ],
 "metadata": {
  "kernelspec": {
   "display_name": "Python 3",
   "language": "python",
   "name": "python3"
  },
  "language_info": {
   "codemirror_mode": {
    "name": "ipython",
    "version": 3
   },
   "file_extension": ".py",
   "mimetype": "text/x-python",
   "name": "python",
   "nbconvert_exporter": "python",
   "pygments_lexer": "ipython3",
   "version": "3.7.3"
  }
 },
 "nbformat": 4,
 "nbformat_minor": 2
}
