{
 "cells": [
  {
   "cell_type": "markdown",
   "metadata": {},
   "source": [
    "## Coding Exercise #0111"
   ]
  },
  {
   "cell_type": "markdown",
   "metadata": {},
   "source": [
    "### 1. Using the OS library:"
   ]
  },
  {
   "cell_type": "code",
   "execution_count": 34,
   "metadata": {},
   "outputs": [],
   "source": [
    "# Import the library.\n",
    "import os"
   ]
  },
  {
   "cell_type": "code",
   "execution_count": 35,
   "metadata": {},
   "outputs": [],
   "source": [
    "str1 = \"c:\"+ os.path.sep\n",
    "str2 = \"Users\"\n",
    "str3 = \"Public\"\n",
    "str4 = \"Documents\""
   ]
  },
  {
   "cell_type": "code",
   "execution_count": 36,
   "metadata": {},
   "outputs": [
    {
     "name": "stdout",
     "output_type": "stream",
     "text": [
      "c:\\Users\\Public\\Documents\n",
      "\\\n"
     ]
    }
   ],
   "source": [
    "str_path=os.path.join(str1,str2,str3,str4)\n",
    "print(str_path)\n",
    "print(os.path.sep)"
   ]
  },
  {
   "cell_type": "code",
   "execution_count": 37,
   "metadata": {},
   "outputs": [
    {
     "name": "stdout",
     "output_type": "stream",
     "text": [
      "c:\\Users\\Public\\Documents\n"
     ]
    }
   ],
   "source": [
    "print(os.getcwd())"
   ]
  },
  {
   "cell_type": "code",
   "execution_count": 38,
   "metadata": {},
   "outputs": [
    {
     "name": "stdout",
     "output_type": "stream",
     "text": [
      "c:\\Users\\Public\\Documents\n"
     ]
    }
   ],
   "source": [
    "os.chdir(str_path)\n",
    "print(os.getcwd())"
   ]
  },
  {
   "cell_type": "code",
   "execution_count": 47,
   "metadata": {},
   "outputs": [
    {
     "name": "stdout",
     "output_type": "stream",
     "text": [
      "c:\\Users\\Public\\Documents\\file.txt\n"
     ]
    }
   ],
   "source": [
    "str_path_abs=os.path.abspath('file.txt')\n",
    "print(str_path_abs)"
   ]
  },
  {
   "cell_type": "code",
   "execution_count": 48,
   "metadata": {},
   "outputs": [
    {
     "name": "stdout",
     "output_type": "stream",
     "text": [
      "True\n"
     ]
    }
   ],
   "source": [
    "print(os.path.isabs(str_path_abs))"
   ]
  },
  {
   "cell_type": "code",
   "execution_count": 49,
   "metadata": {},
   "outputs": [
    {
     "name": "stdout",
     "output_type": "stream",
     "text": [
      "file.txt\n"
     ]
    }
   ],
   "source": [
    "print(os.path.basename(str_path_abs))"
   ]
  },
  {
   "cell_type": "code",
   "execution_count": 50,
   "metadata": {},
   "outputs": [
    {
     "name": "stdout",
     "output_type": "stream",
     "text": [
      "c:\\Users\\Public\\Documents\n"
     ]
    }
   ],
   "source": [
    "print(os.path.dirname(str_path_abs))"
   ]
  },
  {
   "cell_type": "code",
   "execution_count": 51,
   "metadata": {},
   "outputs": [
    {
     "name": "stdout",
     "output_type": "stream",
     "text": [
      "True\n",
      "False\n"
     ]
    }
   ],
   "source": [
    "print(os.path.isdir(str_path))\n",
    "print(os.path.isdir(str_path_abs))"
   ]
  },
  {
   "cell_type": "code",
   "execution_count": 52,
   "metadata": {},
   "outputs": [
    {
     "name": "stdout",
     "output_type": "stream",
     "text": [
      "False\n",
      "False\n"
     ]
    }
   ],
   "source": [
    "print(os.path.isfile(str_path))\n",
    "print(os.path.isfile(str_path_abs))"
   ]
  },
  {
   "cell_type": "code",
   "execution_count": 82,
   "metadata": {},
   "outputs": [
    {
     "data": {
      "text/plain": [
       "32"
      ]
     },
     "execution_count": 82,
     "metadata": {},
     "output_type": "execute_result"
    }
   ],
   "source": [
    "os.path.getsize(\"my_file.txt\")"
   ]
  },
  {
   "cell_type": "code",
   "execution_count": 54,
   "metadata": {},
   "outputs": [
    {
     "name": "stdout",
     "output_type": "stream",
     "text": [
      "['Baidu', 'Baidu Security', 'desktop.ini', 'Guid', 'My Music', 'My Pictures', 'My Videos']\n"
     ]
    }
   ],
   "source": [
    "list_dir=os.listdir()\n",
    "print(list_dir)"
   ]
  },
  {
   "cell_type": "code",
   "execution_count": 55,
   "metadata": {},
   "outputs": [],
   "source": [
    "list_dir.sort()"
   ]
  },
  {
   "cell_type": "code",
   "execution_count": 60,
   "metadata": {},
   "outputs": [
    {
     "name": "stdout",
     "output_type": "stream",
     "text": [
      "My Music\n",
      "My Pictures\n",
      "My Videos\n"
     ]
    }
   ],
   "source": [
    "for x in list_dir:\n",
    "    if x.lower()[0]=='m':\n",
    "        print(x)"
   ]
  },
  {
   "cell_type": "code",
   "execution_count": 65,
   "metadata": {},
   "outputs": [],
   "source": [
    "name_mysubdir ='mysubdirectory'\n",
    "if not os.path.exists(name_mysubdir):\n",
    "    os.makedirs(name_mysubdir)\n",
    "    "
   ]
  },
  {
   "cell_type": "code",
   "execution_count": 66,
   "metadata": {},
   "outputs": [],
   "source": [
    "os.rmdir(name_mysubdir)"
   ]
  },
  {
   "cell_type": "code",
   "execution_count": 67,
   "metadata": {},
   "outputs": [],
   "source": [
    "if os.path.isfile('my_test.txt'):\n",
    "    os.unlink('my_test.txt')"
   ]
  },
  {
   "cell_type": "code",
   "execution_count": 68,
   "metadata": {},
   "outputs": [
    {
     "data": {
      "text/plain": [
       "'c:\\\\Users\\\\Public\\\\Documents'"
      ]
     },
     "execution_count": 68,
     "metadata": {},
     "output_type": "execute_result"
    }
   ],
   "source": [
    "os.getcwd()"
   ]
  },
  {
   "cell_type": "markdown",
   "metadata": {},
   "source": [
    "### 2. Reading and writing text files:"
   ]
  },
  {
   "cell_type": "code",
   "execution_count": 69,
   "metadata": {},
   "outputs": [
    {
     "data": {
      "text/plain": [
       "'c:\\\\Users\\\\Public\\\\Documents'"
      ]
     },
     "execution_count": 69,
     "metadata": {},
     "output_type": "execute_result"
    }
   ],
   "source": [
    "os.getcwd()"
   ]
  },
  {
   "cell_type": "code",
   "execution_count": 72,
   "metadata": {},
   "outputs": [],
   "source": [
    "os.chdir(r'C:\\Users\\hussainhasan\\Desktop\\New folder\\ch2-ex')"
   ]
  },
  {
   "cell_type": "code",
   "execution_count": 73,
   "metadata": {},
   "outputs": [
    {
     "data": {
      "text/plain": [
       "'C:\\\\Users\\\\hussainhasan\\\\Desktop\\\\New folder\\\\ch2-ex'"
      ]
     },
     "execution_count": 73,
     "metadata": {},
     "output_type": "execute_result"
    }
   ],
   "source": [
    "os.getcwd()"
   ]
  },
  {
   "cell_type": "code",
   "execution_count": 75,
   "metadata": {},
   "outputs": [
    {
     "name": "stdout",
     "output_type": "stream",
     "text": [
      "Life \n",
      "is\n",
      "short,\n",
      "You\n",
      "need\n",
      "Python!\n"
     ]
    }
   ],
   "source": [
    "f=open('my_file.txt','r')\n",
    "all=f.read()\n",
    "print(all)\n",
    "f.close()"
   ]
  },
  {
   "cell_type": "code",
   "execution_count": 76,
   "metadata": {},
   "outputs": [
    {
     "name": "stdout",
     "output_type": "stream",
     "text": [
      "Life \n",
      "is\n",
      "short,\n",
      "You\n",
      "need\n",
      "Python!\n",
      "Life \n",
      "is\n",
      "short,\n",
      "You\n",
      "need\n",
      "Python!\n",
      "Life \n",
      "is\n",
      "short,\n",
      "You\n",
      "need\n",
      "Python!\n",
      "Life \n",
      "is\n",
      "short,\n",
      "You\n",
      "need\n",
      "Python!\n",
      "Life \n",
      "is\n",
      "short,\n",
      "You\n",
      "need\n",
      "Python!\n",
      "Life \n",
      "is\n",
      "short,\n",
      "You\n",
      "need\n",
      "Python!\n",
      "Life \n",
      "is\n",
      "short,\n",
      "You\n",
      "need\n",
      "Python!\n",
      "Life \n",
      "is\n",
      "short,\n",
      "You\n",
      "need\n",
      "Python!\n",
      "Life \n",
      "is\n",
      "short,\n",
      "You\n",
      "need\n",
      "Python!\n",
      "Life \n",
      "is\n",
      "short,\n",
      "You\n",
      "need\n",
      "Python!\n",
      "Life \n",
      "is\n",
      "short,\n",
      "You\n",
      "need\n",
      "Python!\n",
      "Life \n",
      "is\n",
      "short,\n",
      "You\n",
      "need\n",
      "Python!\n",
      "Life \n",
      "is\n",
      "short,\n",
      "You\n",
      "need\n",
      "Python!\n",
      "Life \n",
      "is\n",
      "short,\n",
      "You\n",
      "need\n",
      "Python!\n",
      "Life \n",
      "is\n",
      "short,\n",
      "You\n",
      "need\n",
      "Python!\n",
      "Life \n",
      "is\n",
      "short,\n",
      "You\n",
      "need\n",
      "Python!\n",
      "Life \n",
      "is\n",
      "short,\n",
      "You\n",
      "need\n",
      "Python!\n",
      "Life \n",
      "is\n",
      "short,\n",
      "You\n",
      "need\n",
      "Python!\n",
      "Life \n",
      "is\n",
      "short,\n",
      "You\n",
      "need\n",
      "Python!\n",
      "Life \n",
      "is\n",
      "short,\n",
      "You\n",
      "need\n",
      "Python!\n",
      "Life \n",
      "is\n",
      "short,\n",
      "You\n",
      "need\n",
      "Python!\n",
      "Life \n",
      "is\n",
      "short,\n",
      "You\n",
      "need\n",
      "Python!\n",
      "Life \n",
      "is\n",
      "short,\n",
      "You\n",
      "need\n",
      "Python!\n",
      "Life \n",
      "is\n",
      "short,\n",
      "You\n",
      "need\n",
      "Python!\n",
      "Life \n",
      "is\n",
      "short,\n",
      "You\n",
      "need\n",
      "Python!\n",
      "Life \n",
      "is\n",
      "short,\n",
      "You\n",
      "need\n",
      "Python!\n",
      "Life \n",
      "is\n",
      "short,\n",
      "You\n",
      "need\n",
      "Python!\n",
      "Life \n",
      "is\n",
      "short,\n",
      "You\n",
      "need\n",
      "Python!\n",
      "Life \n",
      "is\n",
      "short,\n",
      "You\n",
      "need\n",
      "Python!\n",
      "Life \n",
      "is\n",
      "short,\n",
      "You\n",
      "need\n",
      "Python!\n",
      "Life \n",
      "is\n",
      "short,\n",
      "You\n",
      "need\n",
      "Python!\n",
      "Life \n",
      "is\n",
      "short,\n",
      "You\n",
      "need\n",
      "Python!\n"
     ]
    }
   ],
   "source": [
    "f=open('my_file.txt','r')\n",
    "all=f.read()\n",
    "for line in all:\n",
    "    print(all)\n",
    "f.close()"
   ]
  },
  {
   "cell_type": "code",
   "execution_count": 80,
   "metadata": {},
   "outputs": [],
   "source": [
    "f = open('new_file.txt', 'w')  # Open the text file in write mode.\n",
    "f.write('This is a new file.') # write.\n",
    "f.close()  "
   ]
  },
  {
   "cell_type": "code",
   "execution_count": 81,
   "metadata": {},
   "outputs": [],
   "source": [
    "f = open('new_file.txt', 'a')  \n",
    "f.write('This is the end.') \n",
    "f.close() "
   ]
  },
  {
   "cell_type": "markdown",
   "metadata": {},
   "source": [
    "### 3. Using the Pickle library:"
   ]
  },
  {
   "cell_type": "code",
   "execution_count": 92,
   "metadata": {},
   "outputs": [],
   "source": [
    "import pickle"
   ]
  },
  {
   "cell_type": "code",
   "execution_count": 93,
   "metadata": {},
   "outputs": [],
   "source": [
    "x=[1,2,3,{'name':'john','age':25,'score':9}]"
   ]
  },
  {
   "cell_type": "code",
   "execution_count": 94,
   "metadata": {},
   "outputs": [],
   "source": [
    "pickle.dump(x,open('my_pickle.pkl','wb'))"
   ]
  },
  {
   "cell_type": "code",
   "execution_count": 95,
   "metadata": {},
   "outputs": [],
   "source": [
    "del x"
   ]
  },
  {
   "cell_type": "code",
   "execution_count": 96,
   "metadata": {},
   "outputs": [
    {
     "name": "stdout",
     "output_type": "stream",
     "text": [
      "[1, 2, 3, {'name': 'john', 'age': 25, 'score': 9}]\n"
     ]
    }
   ],
   "source": [
    "new_x=pickle.load(open('my_pickle.pkl','rb'))\n",
    "print(new_x)"
   ]
  },
  {
   "cell_type": "markdown",
   "metadata": {},
   "source": [
    "### 4. Using the Shelve library:"
   ]
  },
  {
   "cell_type": "code",
   "execution_count": 97,
   "metadata": {},
   "outputs": [],
   "source": [
    "import shelve"
   ]
  },
  {
   "cell_type": "code",
   "execution_count": 98,
   "metadata": {},
   "outputs": [],
   "source": [
    "x = shelve.open('MyDict')               \n",
    "x['Name'] = 'Andrew'                    \n",
    "x['Age'] = 23\n",
    "x['Score'] = 8\n",
    "x.close()"
   ]
  },
  {
   "cell_type": "code",
   "execution_count": 99,
   "metadata": {},
   "outputs": [
    {
     "name": "stdout",
     "output_type": "stream",
     "text": [
      "['Name', 'Age', 'Score']\n"
     ]
    }
   ],
   "source": [
    "x=shelve.open('MyDict')\n",
    "print(list(x.keys()))"
   ]
  },
  {
   "cell_type": "code",
   "execution_count": 100,
   "metadata": {},
   "outputs": [
    {
     "name": "stdout",
     "output_type": "stream",
     "text": [
      "['Andrew', 23, 8]\n"
     ]
    }
   ],
   "source": [
    "print(list(x.values()))"
   ]
  },
  {
   "cell_type": "code",
   "execution_count": 101,
   "metadata": {},
   "outputs": [
    {
     "name": "stdout",
     "output_type": "stream",
     "text": [
      "[('Name', 'Andrew'), ('Age', 23), ('Score', 8)]\n"
     ]
    }
   ],
   "source": [
    "print(list(x.items()))"
   ]
  },
  {
   "cell_type": "code",
   "execution_count": 102,
   "metadata": {},
   "outputs": [],
   "source": [
    "x.close()"
   ]
  },
  {
   "cell_type": "code",
   "execution_count": null,
   "metadata": {},
   "outputs": [],
   "source": []
  }
 ],
 "metadata": {
  "kernelspec": {
   "display_name": "Python 3",
   "language": "python",
   "name": "python3"
  },
  "language_info": {
   "codemirror_mode": {
    "name": "ipython",
    "version": 3
   },
   "file_extension": ".py",
   "mimetype": "text/x-python",
   "name": "python",
   "nbconvert_exporter": "python",
   "pygments_lexer": "ipython3",
   "version": "3.7.6"
  }
 },
 "nbformat": 4,
 "nbformat_minor": 4
}
