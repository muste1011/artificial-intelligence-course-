{
 "cells": [
  {
   "cell_type": "markdown",
   "metadata": {},
   "source": [
    "## Coding Exercise #0114"
   ]
  },
  {
   "cell_type": "markdown",
   "metadata": {},
   "source": [
    "### 1. Working with PDF documents: "
   ]
  },
  {
   "cell_type": "code",
   "execution_count": 2,
   "metadata": {},
   "outputs": [
    {
     "name": "stdout",
     "output_type": "stream",
     "text": [
      "Collecting PyPDF2\n",
      "  Downloading PyPDF2-1.26.0.tar.gz (77 kB)\n",
      "Building wheels for collected packages: PyPDF2\n",
      "  Building wheel for PyPDF2 (setup.py): started\n",
      "  Building wheel for PyPDF2 (setup.py): finished with status 'done'\n",
      "  Created wheel for PyPDF2: filename=PyPDF2-1.26.0-py3-none-any.whl size=61087 sha256=ed99a7ea5bff965530a1db3f6b9c4b6bada5fc4e2c654b27325c5ef900bcb007\n",
      "  Stored in directory: c:\\users\\hussainhasan\\appdata\\local\\pip\\cache\\wheels\\80\\1a\\24\\648467ade3a77ed20f35cfd2badd32134e96dd25ca811e64b3\n",
      "Successfully built PyPDF2\n",
      "Installing collected packages: PyPDF2\n",
      "Successfully installed PyPDF2-1.26.0\n"
     ]
    }
   ],
   "source": [
    "!pip install PyPDF2"
   ]
  },
  {
   "cell_type": "code",
   "execution_count": 3,
   "metadata": {},
   "outputs": [],
   "source": [
    "import PyPDF2\n",
    "import os"
   ]
  },
  {
   "cell_type": "code",
   "execution_count": 4,
   "metadata": {},
   "outputs": [],
   "source": [
    "os.chdir(r'C:\\Users\\hussainhasan\\Desktop\\New folder\\ch2-ex')\n"
   ]
  },
  {
   "cell_type": "code",
   "execution_count": 5,
   "metadata": {},
   "outputs": [],
   "source": [
    "my_doc = open('Artificial Intelligence.pdf', 'rb')"
   ]
  },
  {
   "cell_type": "code",
   "execution_count": 9,
   "metadata": {},
   "outputs": [],
   "source": [
    "my_reader=PyPDF2.PdfFileReader(my_doc)"
   ]
  },
  {
   "cell_type": "code",
   "execution_count": 11,
   "metadata": {},
   "outputs": [
    {
     "name": "stdout",
     "output_type": "stream",
     "text": [
      "43\n"
     ]
    }
   ],
   "source": [
    "n=my_reader.numPages\n",
    "print(n)"
   ]
  },
  {
   "cell_type": "code",
   "execution_count": 12,
   "metadata": {},
   "outputs": [
    {
     "name": "stdout",
     "output_type": "stream",
     "text": [
      " \n",
      "Unsupervised learning is the ability to find patterns in a stream of input, without requiring a human \n",
      "to label the inputs first. Supervised learning includes both classif\n",
      "ication and numerical regression, \n",
      "which requires a human to label the input data first. Classification is used to determine what \n",
      "category something belongs in, and occurs after a program sees a number of examples of things \n",
      "from several categories. Regressi\n",
      "on is the attempt to produce a function that describes the \n",
      "relationship between inputs and outputs and predicts how the outputs should change as the inputs \n",
      "change.[111] Both classifiers and regression learners can be viewed as \"function approximators\" \n",
      "tryi\n",
      "ng to learn an unknown (possibly implicit) function; for example, a spam classifier can be viewed \n",
      "as learning a function that maps from the text of an email to one of two categories, \"spam\" or \"not \n",
      "spam\". Computational learning theory can assess learners b\n",
      "y computational complexity, by sample \n",
      "complexity (how much data is required), or by other notions of optimization.[112] In reinforcement \n",
      "learning[113] the agent is rewarded for good responses and punished for bad ones. The agent uses \n",
      "this sequence of rewar\n",
      "ds and punishments to form a strategy for operating in its problem space.\n",
      " \n",
      " \n",
      "Natural language processing\n",
      " \n",
      " \n",
      "A parse tree represents the syntactic structure of a sentence according to some formal grammar.\n",
      " \n",
      "Main article: Natural language processing\n",
      " \n",
      "Natural langua\n",
      "ge processing[114] (NLP) gives machines the ability to read and understand human \n",
      "language. A sufficiently powerful natural language processing system would enable natural\n",
      "-\n",
      "language user interfaces and the acquisition of knowledge directly from human\n",
      "-\n",
      "written\n",
      " \n",
      "sources, \n",
      "such as newswire texts. Some straightforward applications of natural language processing include \n",
      "information retrieval, text mining, question answering[115] and machine translation.[116] Many \n",
      "current approaches use word co\n",
      "-\n",
      "occurrence frequencies \n",
      "to construct syntactic representations of \n",
      "text. \"Keyword spotting\" strategies for search are popular and scalable but dumb; a search query \n",
      "for \"dog\" might only match documents with the literal word \"dog\" and miss a document with the \n",
      "word \"poodle\". \"Lexical\n",
      " \n",
      "affinity\" strategies use the occurrence of words such as \"accident\" to assess \n",
      "the sentiment of a document. Modern statistical NLP approaches can combine all these strategies \n",
      "as well as others, and often achieve acceptable accuracy at the page or paragraph\n",
      " \n",
      "level, but continue \n",
      "to lack the semantic understanding required to classify isolated sentences well. Besides the usual \n",
      "difficulties with encoding semantic commonsense knowledge, existing semantic NLP sometimes \n",
      "scales too poorly to be viable in business ap\n",
      "plications. Beyond semantic NLP, the ultimate goal of \n",
      "\n"
     ]
    }
   ],
   "source": [
    "my_page=my_reader.getPage(10)\n",
    "print(my_page.extractText())"
   ]
  },
  {
   "cell_type": "code",
   "execution_count": 13,
   "metadata": {},
   "outputs": [
    {
     "name": "stdout",
     "output_type": "stream",
     "text": [
      "on using formal logic to solve a wide variety of problems, including knowledge representation, \n",
      "planning and learning.[155] Logic was also the focus of the work at the University of Edinburgh and \n",
      "elsewhere in Europe whi\n",
      "ch led to the development of the programming language Prolog and the \n",
      "science of logic programming.[156]\n",
      " \n",
      " \n",
      "Anti\n",
      "-\n",
      "logic or scruffy\n",
      " \n",
      "Researchers at MIT (such as Marvin Minsky and Seymour Papert)[157] found that solving difficult \n",
      "problems in vision and natural la\n",
      "nguage processing required ad\n",
      "-\n",
      "hoc solutions?they argued that \n",
      "there was no simple and general principle (like logic) that would capture all the aspects of intelligent \n",
      "behavior. Roger Schank described their \"anti\n",
      "-\n",
      "logic\" approaches as \"scruffy\" (as opposed to\n",
      " \n",
      "the \n",
      "\"neat\" paradigms at CMU and Stanford).[16] Commonsense knowledge bases (such as Doug Lenat's \n",
      "Cyc) are an example of \"scruffy\" AI, since they must be built by hand, one complicated concept at \n",
      "a time.[158]\n",
      " \n",
      " \n",
      "Knowledge\n",
      "-\n",
      "based\n",
      " \n",
      "When computers with large memo\n",
      "ries became available around 1970, researchers from all three \n",
      "traditions began to build knowledge into AI applications.[159] This \"knowledge revolution\" led to \n",
      "the development and deployment of expert systems (introduced by Edward Feigenbaum), the first \n",
      "tr\n",
      "uly successful form of AI software.[38] A key component of the system architecture for all expert \n",
      "systems is the knowledge base, which stores facts and rules that illustrate AI.[160] The knowledge \n",
      "revolution was also driven by the realization that enormous\n",
      " \n",
      "amounts of knowledge would be \n",
      "required by many simple AI applications.\n",
      " \n",
      " \n",
      "Sub\n",
      "-\n",
      "symbolic\n",
      " \n",
      "By the 1980s, progress in symbolic AI seemed to stall and many believed that symbolic systems \n",
      "would never be able to imitate all the processes of human cognition, especia\n",
      "lly perception, robotics, \n",
      "learning and pattern recognition. A number of researchers began to look into \"sub\n",
      "-\n",
      "symbolic\" \n",
      "approaches to specific AI problems.[17] Sub\n",
      "-\n",
      "symbolic methods manage to approach intelligence \n",
      "without specific representations of knowledge\n",
      ".\n",
      " \n",
      " \n",
      "Embodied intelligence\n",
      " \n",
      "\n"
     ]
    }
   ],
   "source": [
    "my_page=my_reader.getPage(15)\n",
    "print(my_page.extractText())"
   ]
  },
  {
   "cell_type": "code",
   "execution_count": null,
   "metadata": {},
   "outputs": [],
   "source": []
  }
 ],
 "metadata": {
  "kernelspec": {
   "display_name": "Python 3",
   "language": "python",
   "name": "python3"
  },
  "language_info": {
   "codemirror_mode": {
    "name": "ipython",
    "version": 3
   },
   "file_extension": ".py",
   "mimetype": "text/x-python",
   "name": "python",
   "nbconvert_exporter": "python",
   "pygments_lexer": "ipython3",
   "version": "3.7.6"
  }
 },
 "nbformat": 4,
 "nbformat_minor": 4
}
